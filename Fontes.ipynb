{
  "nbformat": 4,
  "nbformat_minor": 0,
  "metadata": {
    "colab": {
      "provenance": []
    },
    "kernelspec": {
      "name": "python3",
      "display_name": "Python 3"
    },
    "language_info": {
      "name": "python"
    }
  },
  "cells": [
    {
      "cell_type": "code",
      "execution_count": 5,
      "metadata": {
        "id": "R7uKUuZlgffA",
        "colab": {
          "base_uri": "https://localhost:8080/"
        },
        "outputId": "f154245b-4429-46c5-8707-ae58eda26ff5"
      },
      "outputs": [
        {
          "output_type": "stream",
          "name": "stdout",
          "text": [
            "Coeficientes da regressão:\n",
            "Coeficiente para normalized-losses: 0.036168677837362426\n",
            "Coeficiente para height: 1.6407100976300546\n",
            "Intercepto: 6.1689233133056405\n",
            "Coeficiente de determinação (R^2): 0.3802845419013551\n"
          ]
        }
      ],
      "source": [
        "import numpy as np\n",
        "import pandas as pd\n",
        "from sklearn.linear_model import LinearRegression\n",
        "\n",
        "df = pd.read_csv(\"Dados.csv\")\n",
        "X = df[['normalized-losses', 'height']]\n",
        "Y = df['wheel-base']\n",
        "\n",
        "model = LinearRegression()\n",
        "model.fit(X, Y)\n",
        "\n",
        "coeficientes = model.coef_\n",
        "intercepto = model.intercept_\n",
        "\n",
        "r_squared = model.score(X, Y)\n",
        "\n",
        "print(\"Coeficientes da regressão:\")\n",
        "print(\"Coeficiente para normalized-losses:\", coeficientes[0])\n",
        "print(\"Coeficiente para height:\", coeficientes[1])\n",
        "print(\"Intercepto:\", intercepto)\n",
        "print(\"Coeficiente de determinação (R^2):\", r_squared)"
      ]
    }
  ]
}